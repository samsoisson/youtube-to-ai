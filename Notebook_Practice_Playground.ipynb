{
  "nbformat": 4,
  "nbformat_minor": 0,
  "metadata": {
    "colab": {
      "provenance": [],
      "collapsed_sections": []
    },
    "kernelspec": {
      "name": "python3",
      "display_name": "Python 3"
    },
    "language_info": {
      "name": "python"
    }
  },
  "cells": [
    {
      "cell_type": "markdown",
      "source": [
        "# Hello.\n",
        "\n",
        "How are you?"
      ],
      "metadata": {
        "id": "vYrYJw5wlPs7"
      }
    },
    {
      "cell_type": "code",
      "execution_count": null,
      "metadata": {
        "colab": {
          "base_uri": "https://localhost:8080/"
        },
        "id": "nx7af9DXksG1",
        "outputId": "aaad7852-a942-47a2-af0c-82466759de18"
      },
      "outputs": [
        {
          "output_type": "stream",
          "name": "stdout",
          "text": [
            "Try editing this string to make it print out different things.\n"
          ]
        }
      ],
      "source": [
        "print(\"Try editing this string to make it print out different things.\")"
      ]
    },
    {
      "cell_type": "code",
      "source": [
        "%pip install youtube_transcript_api"
      ],
      "metadata": {
        "id": "sDWi1fHim6HS",
        "colab": {
          "base_uri": "https://localhost:8080/"
        },
        "outputId": "849b6db4-90b7-48dd-d5a9-ab3b6f62d6f6"
      },
      "execution_count": null,
      "outputs": [
        {
          "output_type": "stream",
          "name": "stdout",
          "text": [
            "Looking in indexes: https://pypi.org/simple, https://us-python.pkg.dev/colab-wheels/public/simple/\n",
            "Requirement already satisfied: youtube_transcript_api in /usr/local/lib/python3.7/dist-packages (0.4.4)\n",
            "Requirement already satisfied: requests in /usr/local/lib/python3.7/dist-packages (from youtube_transcript_api) (2.23.0)\n",
            "Requirement already satisfied: urllib3!=1.25.0,!=1.25.1,<1.26,>=1.21.1 in /usr/local/lib/python3.7/dist-packages (from requests->youtube_transcript_api) (1.24.3)\n",
            "Requirement already satisfied: certifi>=2017.4.17 in /usr/local/lib/python3.7/dist-packages (from requests->youtube_transcript_api) (2022.6.15)\n",
            "Requirement already satisfied: idna<3,>=2.5 in /usr/local/lib/python3.7/dist-packages (from requests->youtube_transcript_api) (2.10)\n",
            "Requirement already satisfied: chardet<4,>=3.0.2 in /usr/local/lib/python3.7/dist-packages (from requests->youtube_transcript_api) (3.0.4)\n"
          ]
        }
      ]
    },
    {
      "cell_type": "code",
      "source": [
        "from youtube_transcript_api import YouTubeTranscriptApi\n",
        "\n",
        "transcript = YouTubeTranscriptApi.get_transcript(\"NiKtZgImdlY\")\n",
        "transcript"
      ],
      "metadata": {
        "colab": {
          "base_uri": "https://localhost:8080/"
        },
        "id": "TjZHu88UoDyU",
        "outputId": "867c1d1a-4824-47f3-d231-bc754b722750"
      },
      "execution_count": null,
      "outputs": [
        {
          "output_type": "execute_result",
          "data": {
            "text/plain": [
              "[{'text': 'Dr. Martin Luther King, Jr.,', 'start': 13.1, 'duration': 1.65},\n",
              " {'text': 'in a 1968 speech where he reflects\\nupon the Civil Rights Movement,',\n",
              "  'start': 14.75,\n",
              "  'duration': 3.886},\n",
              " {'text': 'states, \"In the end,', 'start': 18.636, 'duration': 2.694},\n",
              " {'text': 'we will remember not the words of our enemies',\n",
              "  'start': 21.33,\n",
              "  'duration': 3.083},\n",
              " {'text': 'but the silence of our friends.\"',\n",
              "  'start': 24.413,\n",
              "  'duration': 2.867},\n",
              " {'text': \"As a teacher, I've internalized this message.\",\n",
              "  'start': 27.28,\n",
              "  'duration': 2.52},\n",
              " {'text': 'Every day, all around us,', 'start': 29.8, 'duration': 1.98},\n",
              " {'text': 'we see the consequences of silence',\n",
              "  'start': 31.78,\n",
              "  'duration': 1.676},\n",
              " {'text': 'manifest themselves in the form of discrimination,',\n",
              "  'start': 33.456,\n",
              "  'duration': 2.437},\n",
              " {'text': 'violence, genocide and war.', 'start': 35.893, 'duration': 3.808},\n",
              " {'text': 'In the classroom, I challenge my students',\n",
              "  'start': 39.701,\n",
              "  'duration': 2.196},\n",
              " {'text': 'to explore the silences in their own lives',\n",
              "  'start': 41.897,\n",
              "  'duration': 2.431},\n",
              " {'text': 'through poetry.', 'start': 44.328, 'duration': 1.85},\n",
              " {'text': 'We work together to fill those spaces,',\n",
              "  'start': 46.178,\n",
              "  'duration': 1.852},\n",
              " {'text': 'to recognize them, to name them,',\n",
              "  'start': 48.03,\n",
              "  'duration': 3.278},\n",
              " {'text': \"to understand that they don't\\nhave to be sources of shame.\",\n",
              "  'start': 51.308,\n",
              "  'duration': 3.432},\n",
              " {'text': 'In an effort to create a culture within my classroom',\n",
              "  'start': 54.74,\n",
              "  'duration': 2.463},\n",
              " {'text': 'where students feel safe sharing the intimacies',\n",
              "  'start': 57.203,\n",
              "  'duration': 2.098},\n",
              " {'text': 'of their own silences,', 'start': 59.301, 'duration': 1.834},\n",
              " {'text': 'I have four core principles posted on the board',\n",
              "  'start': 61.135,\n",
              "  'duration': 2.081},\n",
              " {'text': 'that sits in the front of my class,',\n",
              "  'start': 63.216,\n",
              "  'duration': 2.093},\n",
              " {'text': 'which every student signs\\nat the beginning of the year:',\n",
              "  'start': 65.309,\n",
              "  'duration': 3.061},\n",
              " {'text': 'read critically, write consciously,',\n",
              "  'start': 68.37,\n",
              "  'duration': 2.173},\n",
              " {'text': 'speak clearly, tell your truth.',\n",
              "  'start': 70.543,\n",
              "  'duration': 3.865},\n",
              " {'text': 'And I find myself thinking a lot about that last point,',\n",
              "  'start': 74.408,\n",
              "  'duration': 2.564},\n",
              " {'text': 'tell your truth.', 'start': 76.972, 'duration': 1.899},\n",
              " {'text': 'And I realized that', 'start': 78.871, 'duration': 1.794},\n",
              " {'text': 'if I was going to ask my students to speak up,',\n",
              "  'start': 80.665,\n",
              "  'duration': 2.211},\n",
              " {'text': 'I was going to have to tell my truth',\n",
              "  'start': 82.876,\n",
              "  'duration': 2.138},\n",
              " {'text': 'and be honest with them about the times',\n",
              "  'start': 85.014,\n",
              "  'duration': 2.266},\n",
              " {'text': 'where I failed to do so.', 'start': 87.28, 'duration': 1.568},\n",
              " {'text': 'So I tell them that growing up,',\n",
              "  'start': 88.848,\n",
              "  'duration': 2.06},\n",
              " {'text': 'as a kid in a Catholic family in New Orleans,',\n",
              "  'start': 90.908,\n",
              "  'duration': 2.668},\n",
              " {'text': 'during Lent I was always taught',\n",
              "  'start': 93.576,\n",
              "  'duration': 2.862},\n",
              " {'text': 'that the most meaningful thing one could do',\n",
              "  'start': 96.438,\n",
              "  'duration': 1.808},\n",
              " {'text': 'was to give something up,', 'start': 98.246, 'duration': 1.542},\n",
              " {'text': 'sacrifice something you typically indulge in',\n",
              "  'start': 99.788,\n",
              "  'duration': 2.292},\n",
              " {'text': 'to prove to God you understand his sanctity.',\n",
              "  'start': 102.08,\n",
              "  'duration': 2.399},\n",
              " {'text': \"I've given up soda, McDonald's, French fries,\",\n",
              "  'start': 104.479,\n",
              "  'duration': 2.802},\n",
              " {'text': 'French kisses, and everything in between.',\n",
              "  'start': 107.281,\n",
              "  'duration': 2.902},\n",
              " {'text': 'But one year, I gave up speaking.',\n",
              "  'start': 110.183,\n",
              "  'duration': 3.888},\n",
              " {'text': 'I figured the most valuable thing I could sacrifice',\n",
              "  'start': 114.071,\n",
              "  'duration': 2.603},\n",
              " {'text': \"was my own voice, but it was like I hadn't realized\",\n",
              "  'start': 116.674,\n",
              "  'duration': 3.701},\n",
              " {'text': 'that I had given that up a long time ago.',\n",
              "  'start': 120.375,\n",
              "  'duration': 2.911},\n",
              " {'text': 'I spent so much of my life', 'start': 123.286, 'duration': 1.819},\n",
              " {'text': 'telling people the things they wanted to hear',\n",
              "  'start': 125.105,\n",
              "  'duration': 2.177},\n",
              " {'text': 'instead of the things they needed to,',\n",
              "  'start': 127.282,\n",
              "  'duration': 1.476},\n",
              " {'text': \"told myself I wasn't meant to be anyone's conscience\",\n",
              "  'start': 128.758,\n",
              "  'duration': 2.416},\n",
              " {'text': 'because I still had to figure out being my own,',\n",
              "  'start': 131.174,\n",
              "  'duration': 2.295},\n",
              " {'text': \"so sometimes I just wouldn't say anything,\",\n",
              "  'start': 133.469,\n",
              "  'duration': 3.232},\n",
              " {'text': 'appeasing ignorance with my silence,',\n",
              "  'start': 136.701,\n",
              "  'duration': 2.449},\n",
              " {'text': \"unaware that validation doesn't need words\",\n",
              "  'start': 139.15,\n",
              "  'duration': 2.397},\n",
              " {'text': 'to endorse its existence.', 'start': 141.547, 'duration': 1.62},\n",
              " {'text': 'When Christian was beat up for being gay,',\n",
              "  'start': 143.167,\n",
              "  'duration': 1.788},\n",
              " {'text': 'I put my hands in my pocket', 'start': 144.955, 'duration': 1.268},\n",
              " {'text': \"and walked with my head\\ndown as if I didn't even notice.\",\n",
              "  'start': 146.223,\n",
              "  'duration': 2.777},\n",
              " {'text': \"I couldn't use my locker for weeks\\nbecause the bolt on the lock\",\n",
              "  'start': 149.0,\n",
              "  'duration': 2.535},\n",
              " {'text': 'reminded me of the one I had put on my lips',\n",
              "  'start': 151.535,\n",
              "  'duration': 2.261},\n",
              " {'text': 'when the homeless man on the corner',\n",
              "  'start': 153.796,\n",
              "  'duration': 1.744},\n",
              " {'text': 'looked at me with eyes up merely searching',\n",
              "  'start': 155.54,\n",
              "  'duration': 1.78},\n",
              " {'text': 'for an affirmation that he was worth seeing.',\n",
              "  'start': 157.32,\n",
              "  'duration': 2.182},\n",
              " {'text': 'I was more concerned with\\ntouching the screen on my Apple',\n",
              "  'start': 159.502,\n",
              "  'duration': 2.105},\n",
              " {'text': 'than actually feeding him one.',\n",
              "  'start': 161.607,\n",
              "  'duration': 1.563},\n",
              " {'text': 'When the woman at the fundraising gala',\n",
              "  'start': 163.17,\n",
              "  'duration': 1.687},\n",
              " {'text': 'said \"I\\'m so proud of you.', 'start': 164.857, 'duration': 1.192},\n",
              " {'text': 'It must be so hard teaching\\nthose poor, unintelligent kids,\"',\n",
              "  'start': 166.049,\n",
              "  'duration': 3.071},\n",
              " {'text': 'I bit my lip, because apparently\\nwe needed her money',\n",
              "  'start': 169.12,\n",
              "  'duration': 2.599},\n",
              " {'text': 'more than my students needed their dignity.',\n",
              "  'start': 171.719,\n",
              "  'duration': 1.98},\n",
              " {'text': 'We spend so much time', 'start': 173.699, 'duration': 1.941},\n",
              " {'text': 'listening to the things people are saying',\n",
              "  'start': 175.64,\n",
              "  'duration': 3.9},\n",
              " {'text': \"that we rarely pay attention to the things they don't.\",\n",
              "  'start': 179.54,\n",
              "  'duration': 3.338},\n",
              " {'text': 'Silence is the residue of fear.',\n",
              "  'start': 182.878,\n",
              "  'duration': 3.261},\n",
              " {'text': 'It is feeling your flaws', 'start': 186.139, 'duration': 1.55},\n",
              " {'text': 'gut-wrench guillotine your tongue.',\n",
              "  'start': 187.689,\n",
              "  'duration': 1.926},\n",
              " {'text': 'It is the air retreating from your chest',\n",
              "  'start': 189.615,\n",
              "  'duration': 1.822},\n",
              " {'text': \"because it doesn't feel safe in your lungs.\",\n",
              "  'start': 191.437,\n",
              "  'duration': 1.992},\n",
              " {'text': 'Silence is Rwandan genocide. Silence is Katrina.',\n",
              "  'start': 193.429,\n",
              "  'duration': 3.124},\n",
              " {'text': \"It is what you hear when there\\naren't enough body bags left.\",\n",
              "  'start': 196.553,\n",
              "  'duration': 3.108},\n",
              " {'text': 'It is the sound after the noose is already tied.',\n",
              "  'start': 199.661,\n",
              "  'duration': 2.401},\n",
              " {'text': 'It is charring. It is chains. It is privilege. It is pain.',\n",
              "  'start': 202.062,\n",
              "  'duration': 3.347},\n",
              " {'text': 'There is no time to pick your battles',\n",
              "  'start': 205.409,\n",
              "  'duration': 1.755},\n",
              " {'text': 'when your battles have already picked you.',\n",
              "  'start': 207.164,\n",
              "  'duration': 1.733},\n",
              " {'text': 'I will not let silence wrap itself around my indecision.',\n",
              "  'start': 208.897,\n",
              "  'duration': 3.063},\n",
              " {'text': 'I will tell Christian that he is a lion,',\n",
              "  'start': 211.96,\n",
              "  'duration': 1.967},\n",
              " {'text': 'a sanctuary of bravery and brilliance.',\n",
              "  'start': 213.927,\n",
              "  'duration': 2.36},\n",
              " {'text': 'I will ask that homeless man what his name is',\n",
              "  'start': 216.287,\n",
              "  'duration': 2.396},\n",
              " {'text': 'and how his day was, because sometimes',\n",
              "  'start': 218.683,\n",
              "  'duration': 1.71},\n",
              " {'text': 'all people want to be is human.',\n",
              "  'start': 220.393,\n",
              "  'duration': 1.947},\n",
              " {'text': 'I will tell that woman that my students can talk about',\n",
              "  'start': 222.34,\n",
              "  'duration': 2.486},\n",
              " {'text': 'transcendentalism like their last name was Thoreau,',\n",
              "  'start': 224.826,\n",
              "  'duration': 2.565},\n",
              " {'text': 'and just because you watched\\none episode of \"The Wire\"',\n",
              "  'start': 227.391,\n",
              "  'duration': 2.035},\n",
              " {'text': \"doesn't mean you know anything about my kids.\",\n",
              "  'start': 229.426,\n",
              "  'duration': 2.239},\n",
              " {'text': 'So this year,', 'start': 231.665, 'duration': 1.673},\n",
              " {'text': 'instead of giving something up,',\n",
              "  'start': 233.338,\n",
              "  'duration': 2.147},\n",
              " {'text': 'I will live every day as if there were a microphone',\n",
              "  'start': 235.485,\n",
              "  'duration': 2.412},\n",
              " {'text': 'tucked under my tongue,', 'start': 237.897, 'duration': 1.923},\n",
              " {'text': 'a stage on the underside of my inhibition.',\n",
              "  'start': 239.82,\n",
              "  'duration': 4.005},\n",
              " {'text': 'Because who has to have a soapbox',\n",
              "  'start': 243.825,\n",
              "  'duration': 2.143},\n",
              " {'text': \"when all you've ever needed is your voice?\",\n",
              "  'start': 245.968,\n",
              "  'duration': 4.239},\n",
              " {'text': 'Thank you.', 'start': 250.207, 'duration': 2.505},\n",
              " {'text': '(Applause)', 'start': 252.712, 'duration': 4.0}]"
            ]
          },
          "metadata": {},
          "execution_count": 3
        }
      ]
    },
    {
      "cell_type": "code",
      "source": [
        "from functools import reduce\n",
        "\n",
        "full_transcript = map(lambda x : x['text'], transcript)\n",
        "full_transcript = reduce(lambda a, b: a + ' ' + b, full_transcript)\n",
        "full_transcript = full_transcript.replace('\\n', ' ')\n",
        "print(full_transcript)"
      ],
      "metadata": {
        "id": "g2yktHdPzAoe",
        "outputId": "4ceaed96-e403-4ec8-ea0e-3b0d86758aa1",
        "colab": {
          "base_uri": "https://localhost:8080/"
        }
      },
      "execution_count": null,
      "outputs": [
        {
          "output_type": "stream",
          "name": "stdout",
          "text": [
            "Dr. Martin Luther King, Jr., in a 1968 speech where he reflects upon the Civil Rights Movement, states, \"In the end, we will remember not the words of our enemies but the silence of our friends.\" As a teacher, I've internalized this message. Every day, all around us, we see the consequences of silence manifest themselves in the form of discrimination, violence, genocide and war. In the classroom, I challenge my students to explore the silences in their own lives through poetry. We work together to fill those spaces, to recognize them, to name them, to understand that they don't have to be sources of shame. In an effort to create a culture within my classroom where students feel safe sharing the intimacies of their own silences, I have four core principles posted on the board that sits in the front of my class, which every student signs at the beginning of the year: read critically, write consciously, speak clearly, tell your truth. And I find myself thinking a lot about that last point, tell your truth. And I realized that if I was going to ask my students to speak up, I was going to have to tell my truth and be honest with them about the times where I failed to do so. So I tell them that growing up, as a kid in a Catholic family in New Orleans, during Lent I was always taught that the most meaningful thing one could do was to give something up, sacrifice something you typically indulge in to prove to God you understand his sanctity. I've given up soda, McDonald's, French fries, French kisses, and everything in between. But one year, I gave up speaking. I figured the most valuable thing I could sacrifice was my own voice, but it was like I hadn't realized that I had given that up a long time ago. I spent so much of my life telling people the things they wanted to hear instead of the things they needed to, told myself I wasn't meant to be anyone's conscience because I still had to figure out being my own, so sometimes I just wouldn't say anything, appeasing ignorance with my silence, unaware that validation doesn't need words to endorse its existence. When Christian was beat up for being gay, I put my hands in my pocket and walked with my head down as if I didn't even notice. I couldn't use my locker for weeks because the bolt on the lock reminded me of the one I had put on my lips when the homeless man on the corner looked at me with eyes up merely searching for an affirmation that he was worth seeing. I was more concerned with touching the screen on my Apple than actually feeding him one. When the woman at the fundraising gala said \"I'm so proud of you. It must be so hard teaching those poor, unintelligent kids,\" I bit my lip, because apparently we needed her money more than my students needed their dignity. We spend so much time listening to the things people are saying that we rarely pay attention to the things they don't. Silence is the residue of fear. It is feeling your flaws gut-wrench guillotine your tongue. It is the air retreating from your chest because it doesn't feel safe in your lungs. Silence is Rwandan genocide. Silence is Katrina. It is what you hear when there aren't enough body bags left. It is the sound after the noose is already tied. It is charring. It is chains. It is privilege. It is pain. There is no time to pick your battles when your battles have already picked you. I will not let silence wrap itself around my indecision. I will tell Christian that he is a lion, a sanctuary of bravery and brilliance. I will ask that homeless man what his name is and how his day was, because sometimes all people want to be is human. I will tell that woman that my students can talk about transcendentalism like their last name was Thoreau, and just because you watched one episode of \"The Wire\" doesn't mean you know anything about my kids. So this year, instead of giving something up, I will live every day as if there were a microphone tucked under my tongue, a stage on the underside of my inhibition. Because who has to have a soapbox when all you've ever needed is your voice? Thank you. (Applause)\n"
          ]
        }
      ]
    },
    {
      "cell_type": "code",
      "source": [
        "pip install --user -U nltk"
      ],
      "metadata": {
        "id": "bC_PiHUF1t7E",
        "outputId": "d0df4a06-f3c1-4785-9b97-791f0e4bc357",
        "colab": {
          "base_uri": "https://localhost:8080/"
        }
      },
      "execution_count": null,
      "outputs": [
        {
          "output_type": "stream",
          "name": "stdout",
          "text": [
            "Looking in indexes: https://pypi.org/simple, https://us-python.pkg.dev/colab-wheels/public/simple/\n",
            "Requirement already satisfied: nltk in /usr/local/lib/python3.7/dist-packages (3.7)\n",
            "Requirement already satisfied: tqdm in /usr/local/lib/python3.7/dist-packages (from nltk) (4.64.1)\n",
            "Requirement already satisfied: regex>=2021.8.3 in /usr/local/lib/python3.7/dist-packages (from nltk) (2022.6.2)\n",
            "Requirement already satisfied: click in /usr/local/lib/python3.7/dist-packages (from nltk) (7.1.2)\n",
            "Requirement already satisfied: joblib in /usr/local/lib/python3.7/dist-packages (from nltk) (1.1.0)\n"
          ]
        }
      ]
    },
    {
      "cell_type": "code",
      "source": [
        "import nltk\n",
        "nltk.download('punkt')\n",
        "token = nltk.word_tokenize(full_transcript)\n",
        "print(len(token))"
      ],
      "metadata": {
        "id": "3RdNstfG11OV",
        "outputId": "f605b546-65df-4fc3-e547-085d9d3041dc",
        "colab": {
          "base_uri": "https://localhost:8080/"
        }
      },
      "execution_count": null,
      "outputs": [
        {
          "output_type": "stream",
          "name": "stdout",
          "text": [
            "859\n"
          ]
        },
        {
          "output_type": "stream",
          "name": "stderr",
          "text": [
            "[nltk_data] Downloading package punkt to /root/nltk_data...\n",
            "[nltk_data]   Package punkt is already up-to-date!\n"
          ]
        }
      ]
    },
    {
      "cell_type": "code",
      "source": [
        "pip install transformers"
      ],
      "metadata": {
        "colab": {
          "base_uri": "https://localhost:8080/"
        },
        "id": "zv-7-rM3b36y",
        "outputId": "b15facfd-c8e8-4be3-eabd-11994c472535"
      },
      "execution_count": null,
      "outputs": [
        {
          "output_type": "stream",
          "name": "stdout",
          "text": [
            "Looking in indexes: https://pypi.org/simple, https://us-python.pkg.dev/colab-wheels/public/simple/\n",
            "Requirement already satisfied: transformers in /usr/local/lib/python3.7/dist-packages (4.22.2)\n",
            "Requirement already satisfied: packaging>=20.0 in /usr/local/lib/python3.7/dist-packages (from transformers) (21.3)\n",
            "Requirement already satisfied: filelock in /usr/local/lib/python3.7/dist-packages (from transformers) (3.8.0)\n",
            "Requirement already satisfied: pyyaml>=5.1 in /usr/local/lib/python3.7/dist-packages (from transformers) (6.0)\n",
            "Requirement already satisfied: regex!=2019.12.17 in /usr/local/lib/python3.7/dist-packages (from transformers) (2022.6.2)\n",
            "Requirement already satisfied: tqdm>=4.27 in /usr/local/lib/python3.7/dist-packages (from transformers) (4.64.1)\n",
            "Requirement already satisfied: importlib-metadata in /usr/local/lib/python3.7/dist-packages (from transformers) (4.12.0)\n",
            "Requirement already satisfied: tokenizers!=0.11.3,<0.13,>=0.11.1 in /usr/local/lib/python3.7/dist-packages (from transformers) (0.12.1)\n",
            "Requirement already satisfied: requests in /usr/local/lib/python3.7/dist-packages (from transformers) (2.23.0)\n",
            "Requirement already satisfied: huggingface-hub<1.0,>=0.9.0 in /usr/local/lib/python3.7/dist-packages (from transformers) (0.10.0)\n",
            "Requirement already satisfied: numpy>=1.17 in /usr/local/lib/python3.7/dist-packages (from transformers) (1.21.6)\n",
            "Requirement already satisfied: typing-extensions>=3.7.4.3 in /usr/local/lib/python3.7/dist-packages (from huggingface-hub<1.0,>=0.9.0->transformers) (4.1.1)\n",
            "Requirement already satisfied: pyparsing!=3.0.5,>=2.0.2 in /usr/local/lib/python3.7/dist-packages (from packaging>=20.0->transformers) (3.0.9)\n",
            "Requirement already satisfied: zipp>=0.5 in /usr/local/lib/python3.7/dist-packages (from importlib-metadata->transformers) (3.8.1)\n",
            "Requirement already satisfied: chardet<4,>=3.0.2 in /usr/local/lib/python3.7/dist-packages (from requests->transformers) (3.0.4)\n",
            "Requirement already satisfied: certifi>=2017.4.17 in /usr/local/lib/python3.7/dist-packages (from requests->transformers) (2022.6.15)\n",
            "Requirement already satisfied: idna<3,>=2.5 in /usr/local/lib/python3.7/dist-packages (from requests->transformers) (2.10)\n",
            "Requirement already satisfied: urllib3!=1.25.0,!=1.25.1,<1.26,>=1.21.1 in /usr/local/lib/python3.7/dist-packages (from requests->transformers) (1.24.3)\n"
          ]
        }
      ]
    },
    {
      "cell_type": "code",
      "source": [
        "from transformers import pipeline\n",
        "generator = pipeline('text-generation', model='EleutherAI/gpt-neo-125M')\n",
        "\n",
        "prompt = full_transcript + \"\\n\\nWrite a summary of the text above:\\n\"\n",
        "output = generator(prompt, do_sample=True, min_length=20, max_new_tokens = len(token) + 100)\n",
        "output"
      ],
      "metadata": {
        "colab": {
          "base_uri": "https://localhost:8080/"
        },
        "id": "Hruc035hbjSz",
        "outputId": "6d97167a-4536-4c8d-99b9-8c7aeb49b7ad"
      },
      "execution_count": null,
      "outputs": [
        {
          "output_type": "stream",
          "name": "stderr",
          "text": [
            "Setting `pad_token_id` to `eos_token_id`:50256 for open-end generation.\n"
          ]
        },
        {
          "output_type": "execute_result",
          "data": {
            "text/plain": [
              "[{'generated_text': 'Dr. Martin Luther King, Jr., in a 1968 speech where he reflects upon the Civil Rights Movement, states, \"In the end, we will remember not the words of our enemies but the silence of our friends.\" As a teacher, I\\'ve internalized this message. Every day, all around us, we see the consequences of silence manifest themselves in the form of discrimination, violence, genocide and war. In the classroom, I challenge my students to explore the silences in their own lives through poetry. We work together to fill those spaces, to recognize them, to name them, to understand that they don\\'t have to be sources of shame. In an effort to create a culture within my classroom where students feel safe sharing the intimacies of their own silences, I have four core principles posted on the board that sits in the front of my class, which every student signs at the beginning of the year: read critically, write consciously, speak clearly, tell your truth. And I find myself thinking a lot about that last point, tell your truth. And I realized that if I was going to ask my students to speak up, I was going to have to tell my truth and be honest with them about the times where I failed to do so. So I tell them that growing up, as a kid in a Catholic family in New Orleans, during Lent I was always taught that the most meaningful thing one could do was to give something up, sacrifice something you typically indulge in to prove to God you understand his sanctity. I\\'ve given up soda, McDonald\\'s, French fries, French kisses, and everything in between. But one year, I gave up speaking. I figured the most valuable thing I could sacrifice was my own voice, but it was like I hadn\\'t realized that I had given that up a long time ago. I spent so much of my life telling people the things they wanted to hear instead of the things they needed to, told myself I wasn\\'t meant to be anyone\\'s conscience because I still had to figure out being my own, so sometimes I just wouldn\\'t say anything, appeasing ignorance with my silence, unaware that validation doesn\\'t need words to endorse its existence. When Christian was beat up for being gay, I put my hands in my pocket and walked with my head down as if I didn\\'t even notice. I couldn\\'t use my locker for weeks because the bolt on the lock reminded me of the one I had put on my lips when the homeless man on the corner looked at me with eyes up merely searching for an affirmation that he was worth seeing. I was more concerned with touching the screen on my Apple than actually feeding him one. When the woman at the fundraising gala said \"I\\'m so proud of you. It must be so hard teaching those poor, unintelligent kids,\" I bit my lip, because apparently we needed her money more than my students needed their dignity. We spend so much time listening to the things people are saying that we rarely pay attention to the things they don\\'t. Silence is the residue of fear. It is feeling your flaws gut-wrench guillotine your tongue. It is the air retreating from your chest because it doesn\\'t feel safe in your lungs. Silence is Rwandan genocide. Silence is Katrina. It is what you hear when there aren\\'t enough body bags left. It is the sound after the noose is already tied. It is charring. It is chains. It is privilege. It is pain. There is no time to pick your battles when your battles have already picked you. I will not let silence wrap itself around my indecision. I will tell Christian that he is a lion, a sanctuary of bravery and brilliance. I will ask that homeless man what his name is and how his day was, because sometimes all people want to be is human. I will tell that woman that my students can talk about transcendentalism like their last name was Thoreau, and just because you watched one episode of \"The Wire\" doesn\\'t mean you know anything about my kids. So this year, instead of giving something up, I will live every day as if there were a microphone tucked under my tongue, a stage on the underside of my inhibition. Because who has to have a soapbox when all you\\'ve ever needed is your voice? Thank you. (Applause)\\n\\nWrite a summary of the text above:\\n\\nWhy can\\'t my students be the best voices at the piano? It comes down to two things – words and body language. My students have a hard time expressing their feelings without actually saying anything. The first step is to speak up and start asking questions. In the second step, they need words or body language to tell you about their beliefs, their experiences and their thoughts. (Laugh)\\n\\nThere are a lot of things that matter – even if they don\\'t really feel the way they do. So here\\'s my brief, short-form summation of each of those matters:\\n\\n1. Don\\'t ever tell your students that you\\'re the worst poet you\\'ve ever written. (Applause)\\n\\n2. Don\\'t ever tell your students that you\\'ve ever written a word that can go out of your mouth. (Applause)\\n\\n3. Don\\'t ever tell your students that if you don\\'t learn to say what you want, you\\'ll always mean the wrong thing. (Laugh)\\n\\n4. Don\\'t ever tell your students that you\\'re the worst speaker you\\'ll ever write. (Letters)\\n\\n5. Don\\'t ever speak. (Letters)\\n\\n6. Your students need to be heard. (Laugh)\\n\\nFor me, I want to write a short summary for my students – how they should get used to writing. (Applause)\\n\\nWhen I met a professor at the New Orleans campus with one of my students, one of the first things he said to me was, \"Why don\\'t you just write a little poem to me that comes out in your head?\"\\n\\nMy students got that poem when I met them. My students knew what a terrible poem meant, what a curse it is. They were asking me about the terrible poems and how I put them together when my students were writing it to make it a little more relevant. They were asking me if I wanted my students to know the way they wrote it, how they used them and how they made them feel.\\n\\nThe first step is to write a short summary describing the reasons that make your poetry a better language.\\n\\nLet\\'s start with the reason why I write poetry. This is part of my own philosophy, the most powerful in the world of modern science fiction.\\n\\nWriting is a wonderful thing, everyone. Everyone really likes doing it, they enjoy it. Just as humans want to love to see their pet animals, all humans wants to enjoy their pets.\\n\\nThe first thing you look at is when you see other people who appreciate what you do. People who are human love our generosity and kindness and love us as they do our work. This is part of that. To be happy to do your work is amazing. To have this sort of spirit helps you make the world a better place.\\n\\nThe second thing that I find amazing about a lot of the writers is that they don\\'t want to end up writing poetry. Instead you\\'re just getting back on your feet. When you\\'re writing your poem, you want to go beyond words and into body language.\\n\\nIt\\'s hard to write about things that you don\\'t care about. I\\'ve had an entire life where I would write poems about animals so I know, for example, that the animal had a lot in common with me. For example, when asked what was on her birthday, I know that my friend who was to celebrate that day in Rome would write words about animals and make them understand what they were writing. But then when she was told that the birthday is in August, she would write out words for her and it would be in the first verse. It was in my heart that I wrote more than I write poems on my birthday. These are the words that everyone would read, that nobody else would read. In fact, I\\'d read several of the words she wrote but I\\'ve read only one.\\n\\nI wanted to write poetry. My students wanted to be able to get themselves up to speed on what was happening in my world. I want to write poetry because that\\'s how I think of it.\\n\\nWrite a brief summary, at a time that\\'s all I have. I\\'m not going to spend more than two years thinking about whether I want to be a poet or a scientist or a writer. (Laugh)\\n\\nThis doesn\\'t mean I won\\'t want to write about something that you would never want to think about. I want to write about something you\\'d probably never want to think about. Because that\\'s what I\\'ve learned so far from my students. So in some ways I\\'m very lucky in this group. With books'}]"
            ]
          },
          "metadata": {},
          "execution_count": 8
        }
      ]
    },
    {
      "cell_type": "code",
      "source": [
        "output[0]['generated_text']"
      ],
      "metadata": {
        "colab": {
          "base_uri": "https://localhost:8080/",
          "height": 107
        },
        "id": "r3vxcGKUdtTj",
        "outputId": "830b599d-9d7d-40e6-bbb2-42aea01a370c"
      },
      "execution_count": null,
      "outputs": [
        {
          "output_type": "execute_result",
          "data": {
            "text/plain": [
              "'Dr. Martin Luther King, Jr., in a 1968 speech where he reflects upon the Civil Rights Movement, states, \"In the end, we will remember not the words of our enemies but the silence of our friends.\" As a teacher, I\\'ve internalized this message. Every day, all around us, we see the consequences of silence manifest themselves in the form of discrimination, violence, genocide and war. In the classroom, I challenge my students to explore the silences in their own lives through poetry. We work together to fill those spaces, to recognize them, to name them, to understand that they don\\'t have to be sources of shame. In an effort to create a culture within my classroom where students feel safe sharing the intimacies of their own silences, I have four core principles posted on the board that sits in the front of my class, which every student signs at the beginning of the year: read critically, write consciously, speak clearly, tell your truth. And I find myself thinking a lot about that last point, tell your truth. And I realized that if I was going to ask my students to speak up, I was going to have to tell my truth and be honest with them about the times where I failed to do so. So I tell them that growing up, as a kid in a Catholic family in New Orleans, during Lent I was always taught that the most meaningful thing one could do was to give something up, sacrifice something you typically indulge in to prove to God you understand his sanctity. I\\'ve given up soda, McDonald\\'s, French fries, French kisses, and everything in between. But one year, I gave up speaking. I figured the most valuable thing I could sacrifice was my own voice, but it was like I hadn\\'t realized that I had given that up a long time ago. I spent so much of my life telling people the things they wanted to hear instead of the things they needed to, told myself I wasn\\'t meant to be anyone\\'s conscience because I still had to figure out being my own, so sometimes I just wouldn\\'t say anything, appeasing ignorance with my silence, unaware that validation doesn\\'t need words to endorse its existence. When Christian was beat up for being gay, I put my hands in my pocket and walked with my head down as if I didn\\'t even notice. I couldn\\'t use my locker for weeks because the bolt on the lock reminded me of the one I had put on my lips when the homeless man on the corner looked at me with eyes up merely searching for an affirmation that he was worth seeing. I was more concerned with touching the screen on my Apple than actually feeding him one. When the woman at the fundraising gala said \"I\\'m so proud of you. It must be so hard teaching those poor, unintelligent kids,\" I bit my lip, because apparently we needed her money more than my students needed their dignity. We spend so much time listening to the things people are saying that we rarely pay attention to the things they don\\'t. Silence is the residue of fear. It is feeling your flaws gut-wrench guillotine your tongue. It is the air retreating from your chest because it doesn\\'t feel safe in your lungs. Silence is Rwandan genocide. Silence is Katrina. It is what you hear when there aren\\'t enough body bags left. It is the sound after the noose is already tied. It is charring. It is chains. It is privilege. It is pain. There is no time to pick your battles when your battles have already picked you. I will not let silence wrap itself around my indecision. I will tell Christian that he is a lion, a sanctuary of bravery and brilliance. I will ask that homeless man what his name is and how his day was, because sometimes all people want to be is human. I will tell that woman that my students can talk about transcendentalism like their last name was Thoreau, and just because you watched one episode of \"The Wire\" doesn\\'t mean you know anything about my kids. So this year, instead of giving something up, I will live every day as if there were a microphone tucked under my tongue, a stage on the underside of my inhibition. Because who has to have a soapbox when all you\\'ve ever needed is your voice? Thank you. (Applause)\\n\\nWrite a summary of the text above:\\n\\nWhy can\\'t my students be the best voices at the piano? It comes down to two things – words and body language. My students have a hard time expressing their feelings without actually saying anything. The first step is to speak up and start asking questions. In the second step, they need words or body language to tell you about their beliefs, their experiences and their thoughts. (Laugh)\\n\\nThere are a lot of things that matter – even if they don\\'t really feel the way they do. So here\\'s my brief, short-form summation of each of those matters:\\n\\n1. Don\\'t ever tell your students that you\\'re the worst poet you\\'ve ever written. (Applause)\\n\\n2. Don\\'t ever tell your students that you\\'ve ever written a word that can go out of your mouth. (Applause)\\n\\n3. Don\\'t ever tell your students that if you don\\'t learn to say what you want, you\\'ll always mean the wrong thing. (Laugh)\\n\\n4. Don\\'t ever tell your students that you\\'re the worst speaker you\\'ll ever write. (Letters)\\n\\n5. Don\\'t ever speak. (Letters)\\n\\n6. Your students need to be heard. (Laugh)\\n\\nFor me, I want to write a short summary for my students – how they should get used to writing. (Applause)\\n\\nWhen I met a professor at the New Orleans campus with one of my students, one of the first things he said to me was, \"Why don\\'t you just write a little poem to me that comes out in your head?\"\\n\\nMy students got that poem when I met them. My students knew what a terrible poem meant, what a curse it is. They were asking me about the terrible poems and how I put them together when my students were writing it to make it a little more relevant. They were asking me if I wanted my students to know the way they wrote it, how they used them and how they made them feel.\\n\\nThe first step is to write a short summary describing the reasons that make your poetry a better language.\\n\\nLet\\'s start with the reason why I write poetry. This is part of my own philosophy, the most powerful in the world of modern science fiction.\\n\\nWriting is a wonderful thing, everyone. Everyone really likes doing it, they enjoy it. Just as humans want to love to see their pet animals, all humans wants to enjoy their pets.\\n\\nThe first thing you look at is when you see other people who appreciate what you do. People who are human love our generosity and kindness and love us as they do our work. This is part of that. To be happy to do your work is amazing. To have this sort of spirit helps you make the world a better place.\\n\\nThe second thing that I find amazing about a lot of the writers is that they don\\'t want to end up writing poetry. Instead you\\'re just getting back on your feet. When you\\'re writing your poem, you want to go beyond words and into body language.\\n\\nIt\\'s hard to write about things that you don\\'t care about. I\\'ve had an entire life where I would write poems about animals so I know, for example, that the animal had a lot in common with me. For example, when asked what was on her birthday, I know that my friend who was to celebrate that day in Rome would write words about animals and make them understand what they were writing. But then when she was told that the birthday is in August, she would write out words for her and it would be in the first verse. It was in my heart that I wrote more than I write poems on my birthday. These are the words that everyone would read, that nobody else would read. In fact, I\\'d read several of the words she wrote but I\\'ve read only one.\\n\\nI wanted to write poetry. My students wanted to be able to get themselves up to speed on what was happening in my world. I want to write poetry because that\\'s how I think of it.\\n\\nWrite a brief summary, at a time that\\'s all I have. I\\'m not going to spend more than two years thinking about whether I want to be a poet or a scientist or a writer. (Laugh)\\n\\nThis doesn\\'t mean I won\\'t want to write about something that you would never want to think about. I want to write about something you\\'d probably never want to think about. Because that\\'s what I\\'ve learned so far from my students. So in some ways I\\'m very lucky in this group. With books'"
            ],
            "application/vnd.google.colaboratory.intrinsic+json": {
              "type": "string"
            }
          },
          "metadata": {},
          "execution_count": 9
        }
      ]
    },
    {
      "cell_type": "code",
      "source": [
        "extraction = output[0]['generated_text'][len(prompt) + 1:]\n",
        "print(extraction)"
      ],
      "metadata": {
        "colab": {
          "base_uri": "https://localhost:8080/"
        },
        "id": "UbNuqJTZd0Vl",
        "outputId": "f8ec78c9-4c7c-47ca-c100-b28f6ecb656e"
      },
      "execution_count": null,
      "outputs": [
        {
          "output_type": "stream",
          "name": "stdout",
          "text": [
            "Why can't my students be the best voices at the piano? It comes down to two things – words and body language. My students have a hard time expressing their feelings without actually saying anything. The first step is to speak up and start asking questions. In the second step, they need words or body language to tell you about their beliefs, their experiences and their thoughts. (Laugh)\n",
            "\n",
            "There are a lot of things that matter – even if they don't really feel the way they do. So here's my brief, short-form summation of each of those matters:\n",
            "\n",
            "1. Don't ever tell your students that you're the worst poet you've ever written. (Applause)\n",
            "\n",
            "2. Don't ever tell your students that you've ever written a word that can go out of your mouth. (Applause)\n",
            "\n",
            "3. Don't ever tell your students that if you don't learn to say what you want, you'll always mean the wrong thing. (Laugh)\n",
            "\n",
            "4. Don't ever tell your students that you're the worst speaker you'll ever write. (Letters)\n",
            "\n",
            "5. Don't ever speak. (Letters)\n",
            "\n",
            "6. Your students need to be heard. (Laugh)\n",
            "\n",
            "For me, I want to write a short summary for my students – how they should get used to writing. (Applause)\n",
            "\n",
            "When I met a professor at the New Orleans campus with one of my students, one of the first things he said to me was, \"Why don't you just write a little poem to me that comes out in your head?\"\n",
            "\n",
            "My students got that poem when I met them. My students knew what a terrible poem meant, what a curse it is. They were asking me about the terrible poems and how I put them together when my students were writing it to make it a little more relevant. They were asking me if I wanted my students to know the way they wrote it, how they used them and how they made them feel.\n",
            "\n",
            "The first step is to write a short summary describing the reasons that make your poetry a better language.\n",
            "\n",
            "Let's start with the reason why I write poetry. This is part of my own philosophy, the most powerful in the world of modern science fiction.\n",
            "\n",
            "Writing is a wonderful thing, everyone. Everyone really likes doing it, they enjoy it. Just as humans want to love to see their pet animals, all humans wants to enjoy their pets.\n",
            "\n",
            "The first thing you look at is when you see other people who appreciate what you do. People who are human love our generosity and kindness and love us as they do our work. This is part of that. To be happy to do your work is amazing. To have this sort of spirit helps you make the world a better place.\n",
            "\n",
            "The second thing that I find amazing about a lot of the writers is that they don't want to end up writing poetry. Instead you're just getting back on your feet. When you're writing your poem, you want to go beyond words and into body language.\n",
            "\n",
            "It's hard to write about things that you don't care about. I've had an entire life where I would write poems about animals so I know, for example, that the animal had a lot in common with me. For example, when asked what was on her birthday, I know that my friend who was to celebrate that day in Rome would write words about animals and make them understand what they were writing. But then when she was told that the birthday is in August, she would write out words for her and it would be in the first verse. It was in my heart that I wrote more than I write poems on my birthday. These are the words that everyone would read, that nobody else would read. In fact, I'd read several of the words she wrote but I've read only one.\n",
            "\n",
            "I wanted to write poetry. My students wanted to be able to get themselves up to speed on what was happening in my world. I want to write poetry because that's how I think of it.\n",
            "\n",
            "Write a brief summary, at a time that's all I have. I'm not going to spend more than two years thinking about whether I want to be a poet or a scientist or a writer. (Laugh)\n",
            "\n",
            "This doesn't mean I won't want to write about something that you would never want to think about. I want to write about something you'd probably never want to think about. Because that's what I've learned so far from my students. So in some ways I'm very lucky in this group. With books\n"
          ]
        }
      ]
    }
  ]
}